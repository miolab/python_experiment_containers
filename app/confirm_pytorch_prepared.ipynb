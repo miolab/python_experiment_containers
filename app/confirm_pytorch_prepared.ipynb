{
 "cells": [
  {
   "cell_type": "code",
   "execution_count": 11,
   "metadata": {},
   "outputs": [],
   "source": [
    "from __future__ import print_function\n",
    "import torch"
   ]
  },
  {
   "cell_type": "code",
   "execution_count": 11,
   "metadata": {},
   "outputs": [
    {
     "name": "stdout",
     "output_type": "stream",
     "text": [
      "1.6.0\n"
     ]
    }
   ],
   "source": [
    "print(torch.__version__)"
   ]
  },
  {
   "cell_type": "code",
   "execution_count": 12,
   "metadata": {},
   "outputs": [
    {
     "name": "stdout",
     "output_type": "stream",
     "text": [
      "tensor([[-4.9376e-29,  4.5877e-41, -4.9376e-29],\n",
      "        [ 4.5877e-41,  0.0000e+00,  0.0000e+00],\n",
      "        [ 0.0000e+00,  0.0000e+00,  0.0000e+00],\n",
      "        [ 0.0000e+00,  2.6302e+20,  6.1949e-04],\n",
      "        [ 1.0256e-08,  6.4456e-10,  3.1645e+12]])\n"
     ]
    }
   ],
   "source": [
    "x_empty = torch.empty(5, 3)\n",
    "print(x_empty)"
   ]
  },
  {
   "cell_type": "code",
   "execution_count": 14,
   "metadata": {},
   "outputs": [
    {
     "name": "stdout",
     "output_type": "stream",
     "text": [
      "tensor([[0.4984, 0.4718, 0.9888],\n",
      "        [0.1881, 0.0809, 0.6837],\n",
      "        [0.2493, 0.2613, 0.5709],\n",
      "        [0.5578, 0.5496, 0.3076],\n",
      "        [0.5606, 0.4133, 0.8387]])\n"
     ]
    }
   ],
   "source": [
    "x_rand = torch.rand(5, 3)\n",
    "print(x_rand)"
   ]
  },
  {
   "cell_type": "code",
   "execution_count": null,
   "metadata": {},
   "outputs": [],
   "source": []
  }
 ],
 "metadata": {
  "kernelspec": {
   "display_name": "Python 3",
   "language": "python",
   "name": "python3"
  },
  "language_info": {
   "codemirror_mode": {
    "name": "ipython",
    "version": 3
   },
   "file_extension": ".py",
   "mimetype": "text/x-python",
   "name": "python",
   "nbconvert_exporter": "python",
   "pygments_lexer": "ipython3",
   "version": "3.8.6"
  }
 },
 "nbformat": 4,
 "nbformat_minor": 4
}
